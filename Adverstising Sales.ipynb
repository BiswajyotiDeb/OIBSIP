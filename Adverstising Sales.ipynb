{
 "cells": [
  {
   "cell_type": "markdown",
   "id": "dc030108",
   "metadata": {},
   "source": [
    "# Importing modules"
   ]
  },
  {
   "cell_type": "code",
   "execution_count": 1,
   "id": "ab51dcda",
   "metadata": {},
   "outputs": [],
   "source": [
    "import pandas as pd\n",
    "import numpy as np\n",
    "import matplotlib.pyplot as plt\n",
    "import warnings\n",
    "warnings.filterwarnings(\"ignore\")\n",
    "import seaborn as sns"
   ]
  },
  {
   "cell_type": "markdown",
   "id": "c9e92f5f",
   "metadata": {},
   "source": [
    "# Search Dataset from Kaggle"
   ]
  },
  {
   "cell_type": "code",
   "execution_count": 2,
   "id": "e50aaeb8",
   "metadata": {},
   "outputs": [
    {
     "name": "stdout",
     "output_type": "stream",
     "text": [
      "ref                       title            size  lastUpdated          downloadCount  voteCount  usabilityRating  \n",
      "------------------------  ---------------  ----  -------------------  -------------  ---------  ---------------  \n",
      "bumba5341/advertisingcsv  Advertising.csv   2KB  2020-04-01 06:52:08          17409         36  0.3529412        \n"
     ]
    }
   ],
   "source": [
    "!kaggle datasets list -s 'bumba5341/advertisingcsv'"
   ]
  },
  {
   "cell_type": "markdown",
   "id": "5567fb6e",
   "metadata": {},
   "source": [
    "# Download the dataset"
   ]
  },
  {
   "cell_type": "code",
   "execution_count": 3,
   "id": "ed9bf9e5",
   "metadata": {},
   "outputs": [
    {
     "name": "stdout",
     "output_type": "stream",
     "text": [
      "advertisingcsv.zip: Skipping, found more recently modified local copy (use --force to force download)\n"
     ]
    }
   ],
   "source": [
    "!kaggle datasets download -d bumba5341/advertisingcsv"
   ]
  },
  {
   "cell_type": "markdown",
   "id": "1aa40b34",
   "metadata": {},
   "source": [
    "# Unzipping the dataset"
   ]
  },
  {
   "cell_type": "code",
   "execution_count": 4,
   "id": "a991ce40",
   "metadata": {},
   "outputs": [],
   "source": [
    "import zipfile"
   ]
  },
  {
   "cell_type": "code",
   "execution_count": 5,
   "id": "8bf5dd93",
   "metadata": {},
   "outputs": [],
   "source": [
    "with zipfile.ZipFile(\"advertisingcsv.zip\",\"r\") as file:\n",
    "    file.extractall(\"adv\")"
   ]
  },
  {
   "cell_type": "code",
   "execution_count": 6,
   "id": "57c078a0",
   "metadata": {},
   "outputs": [],
   "source": [
    "import os"
   ]
  },
  {
   "cell_type": "code",
   "execution_count": 7,
   "id": "32c69b38",
   "metadata": {},
   "outputs": [
    {
     "data": {
      "text/plain": [
       "['Advertising.csv']"
      ]
     },
     "execution_count": 7,
     "metadata": {},
     "output_type": "execute_result"
    }
   ],
   "source": [
    "os.listdir(\"adv\")"
   ]
  },
  {
   "cell_type": "markdown",
   "id": "ad2c87a4",
   "metadata": {},
   "source": [
    "# Read the dataset"
   ]
  },
  {
   "cell_type": "code",
   "execution_count": 8,
   "id": "54f50264",
   "metadata": {},
   "outputs": [],
   "source": [
    "df=pd.read_csv('adv/Advertising.csv')"
   ]
  },
  {
   "cell_type": "code",
   "execution_count": null,
   "id": "420e0a35",
   "metadata": {},
   "outputs": [],
   "source": [
    "df"
   ]
  },
  {
   "cell_type": "code",
   "execution_count": null,
   "id": "39df846f",
   "metadata": {},
   "outputs": [],
   "source": [
    "df=df[['TV','Radio','Newspaper','Sales']]\n",
    "df"
   ]
  },
  {
   "cell_type": "markdown",
   "id": "43716a60",
   "metadata": {},
   "source": [
    "# Checking null values in the dataframe"
   ]
  },
  {
   "cell_type": "code",
   "execution_count": null,
   "id": "7d91a0b5",
   "metadata": {},
   "outputs": [],
   "source": [
    "df.isnull().sum()"
   ]
  },
  {
   "cell_type": "code",
   "execution_count": null,
   "id": "80aec451",
   "metadata": {},
   "outputs": [],
   "source": [
    "#data visualisation\n",
    "sns.heatmap(df.isnull())"
   ]
  },
  {
   "cell_type": "markdown",
   "id": "9e9603ab",
   "metadata": {},
   "source": [
    "Observation: No null values are present in our dataset."
   ]
  },
  {
   "cell_type": "code",
   "execution_count": null,
   "id": "1fb19a49",
   "metadata": {},
   "outputs": [],
   "source": [
    "df.shape"
   ]
  },
  {
   "cell_type": "markdown",
   "id": "d8558d69",
   "metadata": {},
   "source": [
    "Total Rows: 200 Total Columns: 4"
   ]
  },
  {
   "cell_type": "code",
   "execution_count": null,
   "id": "b98dcebd",
   "metadata": {},
   "outputs": [],
   "source": [
    "df.dtypes"
   ]
  },
  {
   "cell_type": "markdown",
   "id": "067312d2",
   "metadata": {},
   "source": [
    "All the features have numerical data"
   ]
  },
  {
   "cell_type": "code",
   "execution_count": null,
   "id": "86daa697",
   "metadata": {},
   "outputs": [],
   "source": [
    "df.columns"
   ]
  },
  {
   "cell_type": "markdown",
   "id": "ed378d75",
   "metadata": {},
   "source": [
    "# EDA:"
   ]
  },
  {
   "cell_type": "code",
   "execution_count": null,
   "id": "f303941a",
   "metadata": {},
   "outputs": [],
   "source": [
    "for i in df.columns:\n",
    "    if (df[i].dtypes=='float')|(df[i].dtypes=='int64'):\n",
    "        sns.histplot(x=i,data=df)\n",
    "        plt.show()    "
   ]
  },
  {
   "cell_type": "markdown",
   "id": "bad701a4",
   "metadata": {},
   "source": [
    "Observation:\n",
    "\n",
    "1.The amount which is most frequently spent on TV advertisement is in the range of (200-230) dollars.\n",
    "\n",
    "2.The amount which is most frequently spent on radio advertisement is in the range of (0-8)dollars.\n",
    "\n",
    "3.The amount which is most frequently spent on newspaper advertisement is in the range of (0-10)dollars."
   ]
  },
  {
   "cell_type": "markdown",
   "id": "0de14e1f",
   "metadata": {},
   "source": [
    "Bivariate analysis"
   ]
  },
  {
   "cell_type": "code",
   "execution_count": null,
   "id": "e0e63b26",
   "metadata": {},
   "outputs": [],
   "source": [
    "for i in df.columns:        \n",
    "    plt.xticks(rotation=90)\n",
    "    sns.scatterplot(x=i,y='Sales',data=df)\n",
    "    plt.show() "
   ]
  },
  {
   "cell_type": "markdown",
   "id": "f2679e2e",
   "metadata": {},
   "source": [
    "Observation: \n",
    "    \n",
    "1.With increase in advertising dollar spent on TV,sales also increases. \n",
    "\n",
    "2.With increase in advertising dollar spent on radio,sales also increases. \n",
    "\n",
    "3.There is no clear image on sales with increase on dollar spent on newspaper"
   ]
  },
  {
   "cell_type": "markdown",
   "id": "d1fbfbca",
   "metadata": {},
   "source": [
    "# Data Set Description"
   ]
  },
  {
   "cell_type": "code",
   "execution_count": null,
   "id": "5ca843f5",
   "metadata": {},
   "outputs": [],
   "source": [
    "df.describe()"
   ]
  },
  {
   "cell_type": "code",
   "execution_count": null,
   "id": "59e3c494",
   "metadata": {},
   "outputs": [],
   "source": [
    "#visualisation\n",
    "plt.figure(figsize=(15,7))\n",
    "sns.heatmap(round(df.describe()[1:].transpose(),2),annot=True,linewidth=1,linecolor='yellow',fmt='.2f')\n",
    "plt.show()"
   ]
  },
  {
   "cell_type": "markdown",
   "id": "738c7fe6",
   "metadata": {},
   "source": [
    "Observation:\n",
    "\n",
    "1.The mean and median for TV,radio are almost equal indicating they might be normally distributed.\n",
    "\n",
    "2.Newspaper seems to be right skewed since mean>median.\n",
    "\n",
    "3.There is huge difference beteen min and 25% for TV indicating outliers might be present.\n",
    "\n",
    "4.There is huge difference beteen 75% and max for newspaper indicating outliers might be present."
   ]
  },
  {
   "cell_type": "markdown",
   "id": "cffd2846",
   "metadata": {},
   "source": [
    "# Correlation of columns with target columns"
   ]
  },
  {
   "cell_type": "code",
   "execution_count": null,
   "id": "93813a85",
   "metadata": {},
   "outputs": [],
   "source": [
    "df.corr()['Sales'].sort_values()"
   ]
  },
  {
   "cell_type": "markdown",
   "id": "ccc92ddf",
   "metadata": {},
   "source": [
    "Observation:\n",
    "\n",
    "1.TV is 78% correlated with target.\n",
    "\n",
    "2.Radio is 58% correlated with target.\n",
    "\n",
    "3.Newspaper is 23% correlated with target."
   ]
  },
  {
   "cell_type": "markdown",
   "id": "4d15114a",
   "metadata": {},
   "source": [
    "# Checking Skewness:"
   ]
  },
  {
   "cell_type": "code",
   "execution_count": null,
   "id": "5ab99f70",
   "metadata": {},
   "outputs": [],
   "source": [
    "df.skew()"
   ]
  },
  {
   "cell_type": "markdown",
   "id": "55a3ef78",
   "metadata": {},
   "source": [
    "keeping +/-0.5 as the range for the skewness, newspaper is the columns which doesnot lie within this range and need further treatment."
   ]
  },
  {
   "cell_type": "code",
   "execution_count": null,
   "id": "e68def73",
   "metadata": {},
   "outputs": [],
   "source": [
    "for i in df.columns:        \n",
    "    plt.xticks(rotation=90)\n",
    "    sns.distplot(df[i])\n",
    "    plt.show() "
   ]
  },
  {
   "cell_type": "markdown",
   "id": "74f3ae5f",
   "metadata": {},
   "source": [
    "Observation: TV and radio are normally distributed. Newspaper is right skewed."
   ]
  },
  {
   "cell_type": "markdown",
   "id": "2f54ceb8",
   "metadata": {},
   "source": [
    "# Outliers Checking:"
   ]
  },
  {
   "cell_type": "code",
   "execution_count": null,
   "id": "f7c019bc",
   "metadata": {},
   "outputs": [],
   "source": [
    "df.plot(kind='box',subplots=True,layout=(2,2),figsize=(10,10))"
   ]
  },
  {
   "cell_type": "markdown",
   "id": "44715ad9",
   "metadata": {},
   "source": [
    "Observation: From the above outcome we can see very few oultiers present in newspaper but the datapoints are very close to the whiskers and cannot be trated as outlier."
   ]
  },
  {
   "cell_type": "markdown",
   "id": "9fe4f76e",
   "metadata": {},
   "source": [
    "# Data Preprocessing"
   ]
  },
  {
   "cell_type": "markdown",
   "id": "75a3f0ba",
   "metadata": {},
   "source": [
    "# Transformation to remove skewness"
   ]
  },
  {
   "cell_type": "code",
   "execution_count": null,
   "id": "a335b0e7",
   "metadata": {},
   "outputs": [],
   "source": [
    "df['Newspaper']=np.sqrt(df['Newspaper'])"
   ]
  },
  {
   "cell_type": "code",
   "execution_count": null,
   "id": "06790e7a",
   "metadata": {},
   "outputs": [],
   "source": [
    "df.skew()\n"
   ]
  },
  {
   "cell_type": "code",
   "execution_count": null,
   "id": "94e62559",
   "metadata": {},
   "outputs": [],
   "source": [
    "sns.distplot(df['Newspaper'])"
   ]
  },
  {
   "cell_type": "markdown",
   "id": "3f1a8568",
   "metadata": {},
   "source": [
    "# Seperating the data into features and target"
   ]
  },
  {
   "cell_type": "code",
   "execution_count": null,
   "id": "3f840297",
   "metadata": {},
   "outputs": [],
   "source": [
    "#independent column\n",
    "x=df.iloc[:,:-1]"
   ]
  },
  {
   "cell_type": "code",
   "execution_count": null,
   "id": "4207cfad",
   "metadata": {},
   "outputs": [],
   "source": [
    "#target\n",
    "y=df.iloc[:,-1]"
   ]
  },
  {
   "cell_type": "markdown",
   "id": "2ce949e2",
   "metadata": {},
   "source": [
    "# Since our outcome has continuous variable we will use regression mode"
   ]
  },
  {
   "cell_type": "code",
   "execution_count": null,
   "id": "9d09aa6c",
   "metadata": {},
   "outputs": [],
   "source": [
    "from sklearn.linear_model import LinearRegression\n",
    "lr=LinearRegression()\n",
    "from sklearn.metrics import r2_score\n",
    "from sklearn.metrics import mean_squared_error,mean_absolute_error\n",
    "from sklearn.model_selection import train_test_split\n",
    "import warnings\n",
    "warnings.filterwarnings('ignore')\n",
    "for i in range(0,100):\n",
    "    x_train,x_test,y_train,y_test=train_test_split(x,y,test_size=.3,random_state=i)\n",
    "    lr.fit(x_train,y_train)\n",
    "    train_pred=lr.predict(x_train)\n",
    "    test_pred=lr.predict(x_test)\n",
    "    if round(r2_score(y_train,train_pred),3)==round(r2_score(y_test,test_pred),3):\n",
    "        print('training score :',r2_score(y_train,train_pred))\n",
    "        print('testing score :',r2_score(y_test,test_pred))\n",
    "        print('At random_state=',i,\"the model performs well\",'\\n')"
   ]
  },
  {
   "cell_type": "markdown",
   "id": "b1ed2f82",
   "metadata": {},
   "source": [
    "# Cross Validation Of the Model:"
   ]
  },
  {
   "cell_type": "code",
   "execution_count": null,
   "id": "c338d94e",
   "metadata": {},
   "outputs": [],
   "source": [
    "from sklearn.model_selection import cross_val_score\n",
    "for k in range(2,15):\n",
    "    cv_score=cross_val_score(lr,x,y,cv=k)\n",
    "    cv_mean=cv_score.mean()\n",
    "    print('At crossfold=',k,'the cv score is',cv_mean)\n",
    "    print('training score :',r2_score(y_train,train_pred))\n",
    "    print('testing score :',r2_score(y_test,test_pred))\n",
    "    print('\\n')"
   ]
  },
  {
   "cell_type": "markdown",
   "id": "433f1607",
   "metadata": {},
   "source": [
    "Since the number of folds dont have such impact on the accuracy score and cv_score.So cv=4 is selected. HERE WE HAVE HANDLED THE PROBLEM OF OVERFITTING AND UNDERFITTING BY CHECKING TRAINING AND TESTING SCORE"
   ]
  },
  {
   "cell_type": "code",
   "execution_count": null,
   "id": "aabc8847",
   "metadata": {},
   "outputs": [],
   "source": [
    "plt.figure(figsize=(5,5))\n",
    "plt.scatter(y_test,test_pred,color='r')\n",
    "plt.plot(y_test,y_test,color='b',linewidth='4')\n",
    "plt.show()"
   ]
  },
  {
   "cell_type": "markdown",
   "id": "8a1783d8",
   "metadata": {},
   "source": [
    "Observation: Some predicted values are away from the best fit line."
   ]
  },
  {
   "cell_type": "code",
   "execution_count": null,
   "id": "7c1faa65",
   "metadata": {},
   "outputs": [],
   "source": [
    "from sklearn.linear_model import Ridge\n",
    "rg=Ridge(alpha=18)\n",
    "rg.fit(x_train,y_train)\n",
    "rgpred=rg.predict(x_test)\n",
    "rg.score(x_train,y_train)\n",
    "cv_score=cross_val_score(rg,x,y,cv=4)\n",
    "cv_mean=cv_score.mean()\n",
    "print('testing score :',r2_score(y_test,rgpred))\n",
    "print('training score :',rg.score(x_train,y_train))\n",
    "print('The CV score is:',cv_mean)\n",
    "print('Error:')\n",
    "print('Mean absolue error:',mean_absolute_error(y_test,rgpred))\n",
    "print('Mean squared error:',mean_squared_error(y_test,rgpred))\n",
    "print('Root Mean squared error:',np.sqrt(mean_squared_error(y_test,rgpred)))"
   ]
  },
  {
   "cell_type": "markdown",
   "id": "dd377c08",
   "metadata": {},
   "source": [
    "# Decision Tree Regressor"
   ]
  },
  {
   "cell_type": "code",
   "execution_count": null,
   "id": "bad9e34d",
   "metadata": {},
   "outputs": [],
   "source": [
    "from sklearn.tree import DecisionTreeRegressor\n",
    "dtr=DecisionTreeRegressor()\n",
    "dtr.fit(x_train,y_train)\n",
    "dtrpred=dtr.predict(x_test)\n",
    "dtr.score(x_train,y_train)\n",
    "cv_score=cross_val_score(dtr,x,y,cv=4)\n",
    "cv_mean=cv_score.mean()\n",
    "print('testing score :',r2_score(y_test,dtrpred))\n",
    "print('training score :',dtr.score(x_train,y_train))\n",
    "print('The CV score is:',cv_mean)\n",
    "print('Error:')\n",
    "print('Mean absolue error:',mean_absolute_error(y_test,dtrpred))\n",
    "print('Mean squared error:',mean_squared_error(y_test,dtrpred))\n",
    "print('Root Mean squared error:',np.sqrt(mean_squared_error(y_test,dtrpred)))"
   ]
  },
  {
   "cell_type": "markdown",
   "id": "140df640",
   "metadata": {},
   "source": [
    "# Support Vector Regressor"
   ]
  },
  {
   "cell_type": "code",
   "execution_count": null,
   "id": "0f8a9ff9",
   "metadata": {},
   "outputs": [],
   "source": [
    "from sklearn.svm import SVR\n",
    "from sklearn.metrics import confusion_matrix,classification_report,accuracy_score\n",
    "svr=SVR()                         \n",
    "svr.fit(x_train,y_train)\n",
    "svrpred=svr.predict(x_test)\n",
    "svr.score(x_train,y_train) \n",
    "cv_score=cross_val_score(svr,x,y,cv=4)\n",
    "cv_mean=cv_score.mean()\n",
    "print('The CV score is:',cv_mean)\n",
    "print('testing score :',r2_score(y_test,svrpred))\n",
    "print('training score :',svr.score(x_train,y_train))\n",
    "print('Error:')\n",
    "print('Mean absolue error:',mean_absolute_error(y_test,svrpred))\n",
    "print('Mean squared error:',mean_squared_error(y_test,svrpred))\n",
    "print('Root Mean squared error:',np.sqrt(mean_squared_error(y_test,svrpred)))"
   ]
  },
  {
   "cell_type": "markdown",
   "id": "6b5bfa99",
   "metadata": {},
   "source": [
    "# KNeighborsRegressor"
   ]
  },
  {
   "cell_type": "code",
   "execution_count": null,
   "id": "82f68191",
   "metadata": {},
   "outputs": [],
   "source": [
    "from sklearn.neighbors import KNeighborsRegressor\n",
    "knr=KNeighborsRegressor()\n",
    "knr.fit(x_train,y_train)\n",
    "knrpred=knr.predict(x_test)\n",
    "knr.score(x_train,y_train)\n",
    "cv_score=cross_val_score(knr,x,y,cv=4)\n",
    "cv_mean=cv_score.mean()\n",
    "print('The CV score is:',cv_mean)\n",
    "print('testing score :',r2_score(y_test,knrpred))\n",
    "print('training score :',knr.score(x_train,y_train))\n",
    "print('Error:')\n",
    "print('Mean absolue error:',mean_absolute_error(y_test,knrpred))\n",
    "print('Mean squared error:',mean_squared_error(y_test,knrpred))\n",
    "print('Root Mean squared error:',np.sqrt(mean_squared_error(y_test,knrpred)))"
   ]
  },
  {
   "cell_type": "markdown",
   "id": "41e8b4a0",
   "metadata": {},
   "source": [
    "# Ensemble Methods"
   ]
  },
  {
   "cell_type": "markdown",
   "id": "86e2d691",
   "metadata": {},
   "source": [
    "Random Forest Regressor"
   ]
  },
  {
   "cell_type": "code",
   "execution_count": null,
   "id": "d4c6ef48",
   "metadata": {},
   "outputs": [],
   "source": [
    "from sklearn.ensemble import RandomForestRegressor\n",
    "rf=RandomForestRegressor()     \n",
    "rf.fit(x_train,y_train)\n",
    "rfpred=rf.predict(x_test)\n",
    "rf.score(x_train,y_train)\n",
    "cv_score=cross_val_score(rf,x,y,cv=4)\n",
    "cv_mean=cv_score.mean()\n",
    "print('The CV score is:',cv_mean)\n",
    "print('testing score :',r2_score(y_test,rfpred))\n",
    "print('training score :',rf.score(x_train,y_train))\n",
    "print('Error:')\n",
    "print('Mean absolue error:',mean_absolute_error(y_test,rfpred))\n",
    "print('Mean squared error:',mean_squared_error(y_test,rfpred))\n",
    "print('Root Mean squared error:',np.sqrt(mean_squared_error(y_test,rfpred)))"
   ]
  },
  {
   "cell_type": "markdown",
   "id": "11d97549",
   "metadata": {},
   "source": [
    "Adaboost Regressor"
   ]
  },
  {
   "cell_type": "code",
   "execution_count": null,
   "id": "ac8572a1",
   "metadata": {},
   "outputs": [],
   "source": [
    "from sklearn.ensemble import AdaBoostRegressor\n",
    "ad=AdaBoostRegressor(n_estimators=300)      \n",
    "ad.fit(x_train,y_train)\n",
    "adpred=ad.predict(x_test)\n",
    "ad.score(x_train,y_train)\n",
    "ad.score(x_train,y_train)\n",
    "cv_score=cross_val_score(ad,x,y,cv=4)\n",
    "cv_mean=cv_score.mean()\n",
    "print('The CV score is:',cv_mean)\n",
    "print('testing score :',r2_score(y_test,adpred))\n",
    "print('training score :',ad.score(x_train,y_train))\n",
    "print('Error:')\n",
    "print('Mean absolue error:',mean_absolute_error(y_test,adpred))\n",
    "print('Mean squared error:',mean_squared_error(y_test,adpred))\n",
    "print('Root Mean squared error:',np.sqrt(mean_squared_error(y_test,adpred)))"
   ]
  },
  {
   "cell_type": "markdown",
   "id": "53a6acfc",
   "metadata": {},
   "source": [
    "# CONCLUSION:"
   ]
  },
  {
   "cell_type": "markdown",
   "id": "4c3e4b80",
   "metadata": {},
   "source": [
    "Comparing the performance metrics we selecting Random Forest as our final model as it is very perforing extremely well in comparison to oher model."
   ]
  },
  {
   "cell_type": "code",
   "execution_count": null,
   "id": "0f6bdb52",
   "metadata": {},
   "outputs": [],
   "source": [
    "original=np.array(y_test)\n",
    "predicted=np.array(rfpred)\n",
    "df_com=pd.DataFrame({'Original':original,'Predicted':predicted})\n",
    "df_com"
   ]
  },
  {
   "cell_type": "code",
   "execution_count": null,
   "id": "31249b35",
   "metadata": {},
   "outputs": [],
   "source": [
    "plt.figure(figsize=(10,10))\n",
    "plt.scatter(y_test,rfpred,color='r')\n",
    "plt.plot(y_test,y_test,color='b',linewidth='4')\n",
    "plt.show()"
   ]
  },
  {
   "cell_type": "code",
   "execution_count": null,
   "id": "e28ff7ef",
   "metadata": {},
   "outputs": [],
   "source": []
  },
  {
   "cell_type": "code",
   "execution_count": null,
   "id": "e3b5ea4e",
   "metadata": {},
   "outputs": [],
   "source": []
  },
  {
   "cell_type": "code",
   "execution_count": null,
   "id": "7ffd295d",
   "metadata": {},
   "outputs": [],
   "source": []
  },
  {
   "cell_type": "code",
   "execution_count": null,
   "id": "f7e17d95",
   "metadata": {},
   "outputs": [],
   "source": []
  },
  {
   "cell_type": "code",
   "execution_count": null,
   "id": "1c89a13a",
   "metadata": {},
   "outputs": [],
   "source": []
  },
  {
   "cell_type": "code",
   "execution_count": null,
   "id": "2e048ba7",
   "metadata": {},
   "outputs": [],
   "source": []
  },
  {
   "cell_type": "code",
   "execution_count": null,
   "id": "b4c12edd",
   "metadata": {},
   "outputs": [],
   "source": []
  },
  {
   "cell_type": "code",
   "execution_count": null,
   "id": "c9bf4a80",
   "metadata": {},
   "outputs": [],
   "source": []
  },
  {
   "cell_type": "code",
   "execution_count": null,
   "id": "ba85034d",
   "metadata": {},
   "outputs": [],
   "source": []
  }
 ],
 "metadata": {
  "kernelspec": {
   "display_name": "Python 3 (ipykernel)",
   "language": "python",
   "name": "python3"
  },
  "language_info": {
   "codemirror_mode": {
    "name": "ipython",
    "version": 3
   },
   "file_extension": ".py",
   "mimetype": "text/x-python",
   "name": "python",
   "nbconvert_exporter": "python",
   "pygments_lexer": "ipython3",
   "version": "3.10.12"
  }
 },
 "nbformat": 4,
 "nbformat_minor": 5
}
